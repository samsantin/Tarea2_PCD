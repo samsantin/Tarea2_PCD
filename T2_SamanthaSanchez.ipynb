{
 "cells": [
  {
   "cell_type": "markdown",
   "id": "202689fe",
   "metadata": {},
   "source": [
    "# Tarea 2 : Trabajando con GitHub\n",
    "## MLOps \n",
    "\n",
    "Samantha Sánchez Tinoco"
   ]
  },
  {
   "cell_type": "markdown",
   "id": "0c630903",
   "metadata": {},
   "source": [
    "----------------------------------------------------------------------------------"
   ]
  },
  {
   "cell_type": "markdown",
   "id": "4090c30b",
   "metadata": {},
   "source": [
    "### What is MLOps?\n",
    "\n",
    "MLOps stands for Machine Learning Operations. MLOps is a core function of Machine Learning engineering, focused on streamlining the process of taking machine learning models to production, and then maintaining and monitoring them. \n",
    "\n",
    "MLOps is a collaborative function, often comprising data scientists, devops engineers, and IT.\n",
    "\n"
   ]
  },
  {
   "cell_type": "markdown",
   "id": "040140f3",
   "metadata": {},
   "source": [
    "![MLOps](https://www.databricks.com/sites/default/files/inline-images/mlops-cycle.png)"
   ]
  },
  {
   "cell_type": "markdown",
   "id": "1db2cfd3",
   "metadata": {},
   "source": [
    "### What is the use of MLOps?\n",
    "\n",
    "MLOps is a useful approach for the creation and quality of machine learning and AI solutions. By adopting an MLOps approach, data scientists and machine learning engineers can collaborate and increase the pace of model development and production, by implementing continuous integration and deployment (CI/CD) practices with proper monitoring, validation, and governance of ML models."
   ]
  },
  {
   "cell_type": "markdown",
   "id": "27c26af3",
   "metadata": {},
   "source": [
    "### Why do we need MLOps?\n",
    "\n",
    "Productionizing machine learning is difficult. The machine learning lifecycle consists of many complex components such as data ingest, data prep, model training, model tuning, model deployment, model monitoring, explainability, and much more. \n",
    "\n",
    "It also requires collaboration and hand-offs across teams, from Data Engineering to Data Science to ML Engineering. Naturally, it requires stringent operational rigor to keep all these processes synchronous and working in tandem. MLOps encompasses the experimentation, iteration, and continuous improvement of the machine learning lifecycle."
   ]
  },
  {
   "cell_type": "markdown",
   "id": "c5a5ee53",
   "metadata": {},
   "source": [
    "### What are the benefits of MLOps?\n",
    "\n",
    "The primary benefits of MLOps are efficiency, scalability, and risk reduction. \n",
    "\n",
    "- Efficiency: MLOps allows data teams to achieve faster model development, deliver higher quality ML models, and faster deployment and production. \n",
    "\n",
    "- Scalability: MLOps also enables vast scalability and management where thousands of models can be overseen, controlled, managed, and monitored for continuous integration, continuous delivery, and continuous deployment. \n",
    "\n",
    "- Risk reduction: Machine learning models often need regulatory scrutiny and drift-check, and MLOps enables greater transparency and faster response to such requests and ensures greater compliance with an organization's or industry's policies."
   ]
  },
  {
   "cell_type": "markdown",
   "id": "5694323c",
   "metadata": {},
   "source": [
    "![The ML-Lifecycle](https://d2908q01vomqb2.cloudfront.net/f1f836cb4ea6efb2a0b1b99f41ad8b103eff4b59/2021/02/22/3-ML-Lifecycle-Detail.jpg)"
   ]
  }
 ],
 "metadata": {
  "language_info": {
   "name": "python"
  }
 },
 "nbformat": 4,
 "nbformat_minor": 5
}
